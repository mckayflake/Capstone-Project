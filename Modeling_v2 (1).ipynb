{
 "cells": [
  {
   "cell_type": "markdown",
   "id": "00a672a3",
   "metadata": {},
   "source": [
    "# Modeling \n",
    "\n"
   ]
  },
  {
   "cell_type": "markdown",
   "id": "1e865b9b",
   "metadata": {},
   "source": [
    "## Table of Contents\n",
    "1. [Introduction](#Introduction)\n",
    "2. [Data Preparation](#Data-Preparation)\n",
    "3. [Modeling process](#Modeling-Process)\n",
    "4. [Key Metrics](#Key-Metrics)\n",
    "5. [Results](#Results)\n",
    "\n"
   ]
  },
  {
   "cell_type": "markdown",
   "id": "734c18d4",
   "metadata": {},
   "source": [
    "# Introduction <a id=\"Introduction\"></a>\n",
    "The goal of the project is to provide Swire Coca-Cola with the ability to predict future unplanned maintenance events and minimize downtime. Unplanned maintenance can lead to significant operational losses. Our primary analytical challenge will be identifying the variables that can predict machine breakdowns. Key target variables will include actual work in minutes and maintenance activity type."
   ]
  },
  {
   "cell_type": "markdown",
   "id": "b4f0d17b",
   "metadata": {},
   "source": [
    "# Data Preparation <a id=\"Data-Preparation\"></a>"
   ]
  },
  {
   "cell_type": "code",
   "execution_count": 1,
   "id": "54c5c4d4",
   "metadata": {},
   "outputs": [
    {
     "name": "stdout",
     "output_type": "stream",
     "text": [
      "Columns: ['ORDER_ID', 'PLANT_ID', 'PRODUCTION_LOCATION', 'ACTUAL_WORK_IN_MINUTES', 'MAINTENANCE_PLAN', 'MAINTENANCE_ITEM', 'MAINTENANCE_ACTIVITY_TYPE', 'ORDER_DESCRIPTION', 'MAINTENANCE_TYPE_DESCRIPTION', 'FUNCTIONAL_LOC', 'FUNCTIONAL_AREA_NODE_1_MODIFIED', 'FUNCTIONAL_AREA_NODE_2_MODIFIED', 'FUNCTIONAL_AREA_NODE_3_MODIFIED', 'FUNCTIONAL_AREA_NODE_4_MODIFIED', 'FUNCTIONAL_AREA_NODE_5_MODIFIED', 'EQUIPMENT_ID'] \n",
      "     ORDER_ID PLANT_ID PRODUCTION_LOCATION  ACTUAL_WORK_IN_MINUTES  \\\n",
      "0  705642457     G812                ROMA                   390.0   \n",
      "1  704191697     G812                ROMA                   420.0   \n",
      "2  704466547     G812                ROMA                    30.0   \n",
      "3  703834477     G812                ROMA                    60.0   \n",
      "4  704661125     G291               MONZA                   120.0   \n",
      "\n",
      "  MAINTENANCE_PLAN  MAINTENANCE_ITEM MAINTENANCE_ACTIVITY_TYPE  \\\n",
      "0              NaN               NaN                 Unplanned   \n",
      "1              NaN               NaN                 Unplanned   \n",
      "2              NaN               NaN                 Unplanned   \n",
      "3              NaN               NaN                 Unplanned   \n",
      "4              NaN               NaN                 Unplanned   \n",
      "\n",
      "                ORDER_DESCRIPTION  MAINTENANCE_TYPE_DESCRIPTION  \\\n",
      "0  L2 GEARBOX LEAK (SEE ATTACHED)  Corrective Maintenance Order   \n",
      "1    LINE 3 CONVEYOR AT CAN CODER  Corrective Maintenance Order   \n",
      "2            BROKEN CONVEYOR RAIL  Corrective Maintenance Order   \n",
      "3                 LINE 3 CONVEYOR  Corrective Maintenance Order   \n",
      "4  REPLACED SONIC AIR BLOWER BELT  Corrective Maintenance Order   \n",
      "\n",
      "              FUNCTIONAL_LOC FUNCTIONAL_AREA_NODE_1_MODIFIED  \\\n",
      "0  G812-PRD-L15-L03-L030-020                      PRODUCTION   \n",
      "1  G812-PRD-L15-L03-L030-020                      PRODUCTION   \n",
      "2  G812-PRD-L15-L03-L030-020                      PRODUCTION   \n",
      "3  G812-PRD-L15-L03-L030-020                      PRODUCTION   \n",
      "4               G291-PRD-P05                MONZA PRODUCTION   \n",
      "\n",
      "  FUNCTIONAL_AREA_NODE_2_MODIFIED    FUNCTIONAL_AREA_NODE_3_MODIFIED  \\\n",
      "0      G812 PRD FILLER_ROTARY_CAN  G812 PRD FILLER_ROTARY_CAN LINE 3   \n",
      "1      G812 PRD FILLER_ROTARY_CAN  G812 PRD FILLER_ROTARY_CAN LINE 3   \n",
      "2      G812 PRD FILLER_ROTARY_CAN  G812 PRD FILLER_ROTARY_CAN LINE 3   \n",
      "3      G812 PRD FILLER_ROTARY_CAN  G812 PRD FILLER_ROTARY_CAN LINE 3   \n",
      "4                     AIR SYSTEMS                                NaN   \n",
      "\n",
      "  FUNCTIONAL_AREA_NODE_4_MODIFIED FUNCTIONAL_AREA_NODE_5_MODIFIED  \\\n",
      "0                        CONVEYOR               FULL CAN CONVEYOR   \n",
      "1                        CONVEYOR               FULL CAN CONVEYOR   \n",
      "2                        CONVEYOR               FULL CAN CONVEYOR   \n",
      "3                        CONVEYOR               FULL CAN CONVEYOR   \n",
      "4                             NaN                             NaN   \n",
      "\n",
      "   EQUIPMENT_ID  \n",
      "0   300126812.0  \n",
      "1   300126812.0  \n",
      "2   300126812.0  \n",
      "3   300126812.0  \n",
      "4   300001088.0  \n"
     ]
    }
   ],
   "source": [
    "# Package Importing and Data Cleaning \n",
    "import pandas as pd\n",
    "import numpy as np\n",
    "from sklearn.ensemble import RandomForestRegressor\n",
    "from sklearn.model_selection import train_test_split\n",
    "from sklearn.metrics import mean_squared_error\n",
    "from sklearn.preprocessing import OneHotEncoder\n",
    "df = pd.read_csv('IWC_Work_Orders_Extract.csv', low_memory=False)\n",
    "\n",
    "#remove columns not needed \n",
    "\n",
    "columns_to_remove = [\n",
    "    'EQUIPMENT_DESC', \n",
    "    'EQUIP_CAT_DESC', \n",
    "    'EQUIP_START_UP_DATE', \n",
    "    'EQUIP_VALID_FROM', \n",
    "    'EQUIP_VALID_TO', \n",
    "    'EXECUTION_FINISH_DATE', \n",
    "    'ACTUAL_START_TIME', \n",
    "    'ACTUAL_FINISH_TIME', \n",
    "    'EXECUTION_START_DATE'\n",
    "]\n",
    "\n",
    "df = df.drop(columns=columns_to_remove)\n",
    "\n",
    "# Convert date columns to datetime\n",
    "df['ACTUAL_WORK_IN_MINUTES'] = pd.to_numeric(df['ACTUAL_WORK_IN_MINUTES'], errors='coerce')\n",
    "\n",
    "# Remove duplicate rows\n",
    "df.drop_duplicates(inplace=True)\n",
    "\n",
    "\n",
    "#take a quick look at the data to ensure it looks good \n",
    "print(\"Columns:\", df.columns.tolist(), \"\\n\", df.head())\n",
    "\n"
   ]
  },
  {
   "cell_type": "markdown",
   "id": "4f4f8bc8",
   "metadata": {},
   "source": [
    "# Modeling Process A <a id=\"Modeling-Process\"></a>\n",
    "Let’s examine the relationship between planned and unplanned work, as well as key problem areas, so that we can build a useful tool based on real-world pain points."
   ]
  },
  {
   "cell_type": "code",
   "execution_count": null,
   "id": "c1039558",
   "metadata": {},
   "outputs": [
    {
     "name": "stdout",
     "output_type": "stream",
     "text": [
      "Ratio of 'unplanned' to 'planned' maintenance activities: 0.8946326678175867\n"
     ]
    }
   ],
   "source": [
    "# Calculate the ratio of \"unplanned\" to \"planned\" maintenance activities\n",
    "maintenance_activity_counts = df['MAINTENANCE_ACTIVITY_TYPE'].value_counts()\n",
    "unplanned_count = maintenance_activity_counts['Unplanned'] if 'Unplanned' in maintenance_activity_counts else 0\n",
    "planned_count = maintenance_activity_counts['Planned'] if 'Planned' in maintenance_activity_counts else 0\n",
    "ratio = unplanned_count / (planned_count + unplanned_count) if planned_count + unplanned_count > 0 else 0\n",
    "\n",
    "print(f\"Ratio of 'unplanned' to 'planned' maintenance activities: {ratio}\")\n",
    "\n"
   ]
  },
  {
   "cell_type": "markdown",
   "id": "6421d272",
   "metadata": {},
   "source": [
    "### Insights\n",
    "For every one planned maintenance activity, there are approximately 0.8946 unplanned maintenance activities. Let's examine the counts as well to get a better understanding of the scale."
   ]
  },
  {
   "cell_type": "code",
   "execution_count": 3,
   "id": "e85255bc",
   "metadata": {},
   "outputs": [
    {
     "name": "stdout",
     "output_type": "stream",
     "text": [
      "Unplanned    1276877\n",
      "Planned       150387\n",
      "Name: MAINTENANCE_ACTIVITY_TYPE, dtype: int64\n"
     ]
    }
   ],
   "source": [
    "# Count the number of occurrences of each value in the MAINTENANCE_ACTIVITY_TYPE column\n",
    "counts = df['MAINTENANCE_ACTIVITY_TYPE'].value_counts()\n",
    "\n",
    "# Print the counts\n",
    "print(counts)\n",
    "\n"
   ]
  },
  {
   "cell_type": "markdown",
   "id": "73ede3e9",
   "metadata": {},
   "source": [
    "Let’s examine which plants have the highest ratio of planned to unplanned maintenance activities."
   ]
  },
  {
   "cell_type": "code",
   "execution_count": 4,
   "id": "0d29d422",
   "metadata": {},
   "outputs": [
    {
     "name": "stdout",
     "output_type": "stream",
     "text": [
      "                     Planned  Unplanned      Ratio\n",
      "PRODUCTION_LOCATION                               \n",
      "COTA                   26338      89965   3.415787\n",
      "MONACO                  8150      76544   9.391902\n",
      "MONZA                  48658     176621   3.629845\n",
      "ROMA                   21222      57888   2.727735\n",
      "SILVERSTONE            27809     603094  21.687008\n",
      "SUZUKA                 18210     272765  14.978858\n"
     ]
    }
   ],
   "source": [
    "\n",
    "# Group the data by PLANT_ID and calculate the counts of 'unplanned' and 'planned' maintenance activities\n",
    "grouped_df_pl = df.groupby('PRODUCTION_LOCATION')['MAINTENANCE_ACTIVITY_TYPE'].value_counts().unstack()\n",
    "\n",
    "# Rename the columns\n",
    "grouped_df_pl.columns = ['Planned', 'Unplanned']\n",
    "\n",
    "# Calculate the ratio of 'unplanned' to 'planned' maintenance activities\n",
    "grouped_df_pl['Ratio'] = grouped_df_pl['Unplanned'] / grouped_df_pl['Planned']\n",
    "\n",
    "# Print the dataframe\n",
    "print(grouped_df_pl)\n",
    "\n",
    "\n",
    "\n"
   ]
  },
  {
   "cell_type": "markdown",
   "id": "24ee639b",
   "metadata": {},
   "source": [
    "Silverstone and Suzuka are both outliers, showing underperformance. Now that we have a broad understanding, let’s identify the specific functional locations that would benefit the most from implementing more planned maintenance."
   ]
  },
  {
   "cell_type": "code",
   "execution_count": 5,
   "id": "c67e753e",
   "metadata": {},
   "outputs": [
    {
     "name": "stdout",
     "output_type": "stream",
     "text": [
      "                       Planned  Unplanned       Ratio\n",
      "FUNCTIONAL_LOC                                       \n",
      "G221-PRD-L30-L06-L010      1.0      209.0  209.000000\n",
      "G221-PRD-L30-L02-L070      3.0      511.0  170.333333\n",
      "G221-PRD-L15-L04-L200      1.0      145.0  145.000000\n",
      "G811-PRD-A55-I04           1.0      136.0  136.000000\n",
      "G221-PRD-L30-L06-L070      1.0      131.0  131.000000\n",
      "...                        ...        ...         ...\n",
      "G816-PRD-P90-W02-S090      NaN        1.0         NaN\n",
      "G816-PRD-P90-W06           NaN        2.0         NaN\n",
      "G816-PRD-P90-W10           NaN        5.0         NaN\n",
      "G816-PRD-P90-XXX-S210      NaN        5.0         NaN\n",
      "G999-SLC-PRD               NaN        1.0         NaN\n",
      "\n",
      "[667 rows x 3 columns]\n"
     ]
    }
   ],
   "source": [
    "\n",
    "\n",
    "# Group the data by PLANT_ID and calculate the counts of 'unplanned' and 'planned' maintenance activities\n",
    "grouped_df_fM = df.groupby('FUNCTIONAL_LOC')['MAINTENANCE_ACTIVITY_TYPE'].value_counts().unstack()\n",
    "\n",
    "# Rename the columns\n",
    "grouped_df_fM.columns = ['Planned', 'Unplanned']\n",
    "\n",
    "# Calculate the ratio of 'unplanned' to 'planned' maintenance activities\n",
    "grouped_df_fM['Ratio'] = grouped_df_fM['Unplanned'] / grouped_df_fM['Planned']\n",
    "\n",
    "# Sort the dataframe by the Ratio column in descending order\n",
    "grouped_df_fMf = grouped_df_fM.sort_values(by='Ratio', ascending=False)\n",
    "\n",
    "# Print the dataframe\n",
    "print(grouped_df_fMf)\n",
    "\n",
    "\n",
    "\n"
   ]
  },
  {
   "cell_type": "markdown",
   "id": "4014e121",
   "metadata": {},
   "source": [
    "G221-PRD-L30-L02-L070 has a poor ratio and a slightly larger sample size, so let's use that one."
   ]
  },
  {
   "cell_type": "markdown",
   "id": "d6ac4e13",
   "metadata": {},
   "source": [
    "\n",
    "# Key Metrics <a id=\"Key-Metrics\"></a>\n",
    "For the functional location G221-PRD-L30-L02-L070, the ratio of planned to unplanned maintenance events is 3:511, or approximately 170."
   ]
  },
  {
   "cell_type": "markdown",
   "id": "74d6cbe4",
   "metadata": {},
   "source": [
    "Let’s create a calculator to determine the optimal amount of planned maintenance needed to minimize costs for our selected problematic location. Since we do not have access to financial data on a per-hour basis, we will use the following assumptions: 50 Dollors per hour for planned maintenance and 500 Dollord per hour for unplanned maintenance, which includes losses from not stopping production. Additionally, we need to enter the ratio of planned to unplanned work, which in our case is 170."
   ]
  },
  {
   "cell_type": "code",
   "execution_count": null,
   "id": "87c3f7c7",
   "metadata": {},
   "outputs": [],
   "source": [
    "def break_even_point_calculator():\n",
    "    # Get the user input\n",
    "    cost_per_hour_planned = float(input(\"Enter the monetary cost per hour of planned maintenance: $\"))\n",
    "    cost_per_hour_unplanned = float(input(\"Enter the monetary cost per hour of unplanned maintenance (including compensation for lost production): $\"))\n",
    "    ratio_planned_to_unplanned = float(input(\"Enter the ratio of planned to unplanned maintenance events (e.g. 170.33 for 3 planned and 511 unplanned events): \"))\n",
    "\n",
    "    # Calculate the break-even point\n",
    "    break_even_point = (cost_per_hour_unplanned / cost_per_hour_planned) * (1 / ratio_planned_to_unplanned)\n",
    "\n",
    "    print(f\"The break-even point is: {break_even_point:.2f} hours of planned maintenance per hour of unplanned maintenance.\")\n",
    "\n",
    "    # Calculate the number of hours of planned maintenance needed\n",
    "    hours_planned = break_even_point * ratio_planned_to_unplanned\n",
    "    print(f\"The number of hours of planned maintenance needed is: {hours_planned:.2f} hours.\")\n",
    "\n",
    "    # Calculate the cost of planned maintenance\n",
    "    cost_planned = hours_planned * cost_per_hour_planned\n",
    "    print(f\"The cost of planned maintenance is: ${cost_planned:.2f}.\")\n",
    "\n",
    "    # Calculate the value of unplanned maintenance avoided\n",
    "    value_avoided = cost_per_hour_unplanned * ratio_planned_to_unplanned\n",
    "    print(f\"The value of unplanned maintenance avoided is: ${value_avoided:.2f}.\")\n",
    "\n",
    "break_even_point_calculator()"
   ]
  },
  {
   "cell_type": "markdown",
   "id": "8e69e105",
   "metadata": {},
   "source": [
    "# Results <a id=\"Results\"></a>\n",
    "According to the break-even analysis, Swire should perform 10 hours of planned maintenance for the functional location G221-PRD-L30-L02-L070, which will cost them 500 Dollors. By doing so, they will save 85,000 Dollors. While these savings may seem quite extreme, we selected one of the least efficient functional locations and made certain assumptions regarding the cost per hour. When applied to functional locations with more average performance, the results will normalize."
   ]
  }
 ],
 "metadata": {
  "kernelspec": {
   "display_name": "Python 3 (ipykernel)",
   "language": "python",
   "name": "python3"
  },
  "language_info": {
   "codemirror_mode": {
    "name": "ipython",
    "version": 3
   },
   "file_extension": ".py",
   "mimetype": "text/x-python",
   "name": "python",
   "nbconvert_exporter": "python",
   "pygments_lexer": "ipython3",
   "version": "3.10.9"
  }
 },
 "nbformat": 4,
 "nbformat_minor": 5
}
